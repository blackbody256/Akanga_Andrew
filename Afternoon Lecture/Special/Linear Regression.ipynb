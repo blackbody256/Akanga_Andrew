{
 "cells": [
  {
   "cell_type": "markdown",
   "id": "796bd6b6",
   "metadata": {},
   "source": [
    "# Linear Regression\n",
    "## Purpose of this notebook\n",
    "- It is to accurately predict the box office revenue of the movie based on various available features.\n",
    "\n",
    "## Specific Objectives\n",
    "- Build a predictive model that can estimate the expected revenue of movies.\n",
    "- Provide insights into which features are most influential in determining a movie's box office success.\n",
    "- Compare linear regression performance with more advanced models like Random Forest and XGBoost.\n",
    "\n",
    "## Steps\n",
    "- Import the libraries and load the dataset.\n",
    "- Preprocessing and Modelling.\n",
    "    - train-test split.\n",
    "    - LabelEncoder: this is used to convert categorical variables into numerical format.\n",
    "    - StandardScaler: this is used to standardize the features by removing the mean and scaling to unit variance.\n",
    "    - CountVectorizer: this is used to convert text data into numerical format.\n",
    "    - Metrics: Offers tools to evaluate model accuracy.\n",
    "\n",
    "## Advanced modelling:\n",
    "- xgboost: an efficient and scalable implementation of gradient boosting framework.\n",
    "\n",
    "## Utility\n",
    "- warnings.filterwarnings('ignore'): Hides unnecessary warning messages for cleaner output.\n"
   ]
  },
  {
   "cell_type": "code",
   "execution_count": 1,
   "id": "30bf054e",
   "metadata": {},
   "outputs": [
    {
     "name": "stdout",
     "output_type": "stream",
     "text": [
      "\u001b[33mWARNING: Package(s) not found: xgboost\u001b[0m\u001b[33m\n",
      "\u001b[0m"
     ]
    }
   ],
   "source": [
    "!pip show xgboost"
   ]
  },
  {
   "cell_type": "code",
   "execution_count": 2,
   "id": "23250cb0",
   "metadata": {},
   "outputs": [
    {
     "name": "stdout",
     "output_type": "stream",
     "text": [
      "Collecting xgboost\n",
      "  Using cached xgboost-3.0.2-py3-none-manylinux_2_28_x86_64.whl.metadata (2.1 kB)\n",
      "Requirement already satisfied: numpy in /home/andrew/miniconda3/envs/DataScience/lib/python3.13/site-packages (from xgboost) (2.2.5)\n",
      "Collecting nvidia-nccl-cu12 (from xgboost)\n",
      "  Downloading nvidia_nccl_cu12-2.27.3-py3-none-manylinux2014_x86_64.manylinux_2_17_x86_64.whl.metadata (2.0 kB)\n",
      "Requirement already satisfied: scipy in /home/andrew/miniconda3/envs/DataScience/lib/python3.13/site-packages (from xgboost) (1.15.3)\n",
      "Using cached xgboost-3.0.2-py3-none-manylinux_2_28_x86_64.whl (253.9 MB)\n",
      "Downloading nvidia_nccl_cu12-2.27.3-py3-none-manylinux2014_x86_64.manylinux_2_17_x86_64.whl (322.4 MB)\n",
      "\u001b[2K   \u001b[38;2;114;156;31m━━━━━━━━━━━━━━━━━━━━━━━━━━━━━━━━━━━━━━━━\u001b[0m \u001b[32m322.4/322.4 MB\u001b[0m \u001b[31m1.3 MB/s\u001b[0m eta \u001b[36m0:00:00\u001b[0mm eta \u001b[36m0:00:01\u001b[0m[36m0:00:07\u001b[0m\n",
      "\u001b[?25hInstalling collected packages: nvidia-nccl-cu12, xgboost\n",
      "\u001b[2K   \u001b[38;2;114;156;31m━━━━━━━━━━━━━━━━━━━━━━━━━━━━━━━━━━━━━━━━\u001b[0m \u001b[32m2/2\u001b[0m [xgboost]━━━\u001b[0m \u001b[32m1/2\u001b[0m [xgboost]\n",
      "\u001b[1A\u001b[2KSuccessfully installed nvidia-nccl-cu12-2.27.3 xgboost-3.0.2\n"
     ]
    }
   ],
   "source": [
    "!pip install xgboost"
   ]
  },
  {
   "cell_type": "code",
   "execution_count": 3,
   "id": "d6ccc4b8",
   "metadata": {},
   "outputs": [
    {
     "name": "stdout",
     "output_type": "stream",
     "text": [
      "Name: scikit-learn\n",
      "Version: 1.6.1\n",
      "Summary: A set of python modules for machine learning and data mining\n",
      "Home-page: https://scikit-learn.org\n",
      "Author: \n",
      "Author-email: \n",
      "License: BSD 3-Clause License\n",
      "\n",
      " Copyright (c) 2007-2024 The scikit-learn developers.\n",
      " All rights reserved.\n",
      "\n",
      " Redistribution and use in source and binary forms, with or without\n",
      " modification, are permitted provided that the following conditions are met:\n",
      "\n",
      " * Redistributions of source code must retain the above copyright notice, this\n",
      "   list of conditions and the following disclaimer.\n",
      "\n",
      " * Redistributions in binary form must reproduce the above copyright notice,\n",
      "   this list of conditions and the following disclaimer in the documentation\n",
      "   and/or other materials provided with the distribution.\n",
      "\n",
      " * Neither the name of the copyright holder nor the names of its\n",
      "   contributors may be used to endorse or promote products derived from\n",
      "   this software without specific prior written permission.\n",
      "\n",
      " THIS SOFTWARE IS PROVIDED BY THE COPYRIGHT HOLDERS AND CONTRIBUTORS \"AS IS\"\n",
      " AND ANY EXPRESS OR IMPLIED WARRANTIES, INCLUDING, BUT NOT LIMITED TO, THE\n",
      " IMPLIED WARRANTIES OF MERCHANTABILITY AND FITNESS FOR A PARTICULAR PURPOSE ARE\n",
      " DISCLAIMED. IN NO EVENT SHALL THE COPYRIGHT HOLDER OR CONTRIBUTORS BE LIABLE\n",
      " FOR ANY DIRECT, INDIRECT, INCIDENTAL, SPECIAL, EXEMPLARY, OR CONSEQUENTIAL\n",
      " DAMAGES (INCLUDING, BUT NOT LIMITED TO, PROCUREMENT OF SUBSTITUTE GOODS OR\n",
      " SERVICES; LOSS OF USE, DATA, OR PROFITS; OR BUSINESS INTERRUPTION) HOWEVER\n",
      " CAUSED AND ON ANY THEORY OF LIABILITY, WHETHER IN CONTRACT, STRICT LIABILITY,\n",
      " OR TORT (INCLUDING NEGLIGENCE OR OTHERWISE) ARISING IN ANY WAY OUT OF THE USE\n",
      " OF THIS SOFTWARE, EVEN IF ADVISED OF THE POSSIBILITY OF SUCH DAMAGE.\n",
      "\n",
      "Location: /home/andrew/miniconda3/envs/DataScience/lib/python3.13/site-packages\n",
      "Requires: joblib, numpy, scipy, threadpoolctl\n",
      "Required-by: \n"
     ]
    }
   ],
   "source": [
    "!pip show scikit-learn"
   ]
  },
  {
   "cell_type": "code",
   "execution_count": 4,
   "id": "cb6863fe",
   "metadata": {},
   "outputs": [],
   "source": [
    "import numpy as np\n",
    "import pandas as pd\n",
    "import seaborn as sb\n",
    "from sklearn.model_selection import train_test_split\n",
    "from sklearn.preprocessing import LabelEncoder, StandardScaler\n",
    "from sklearn.feature_extraction.text import CountVectorizer\n",
    "from sklearn import metrics\n",
    "from xgboost import XGBRegressor"
   ]
  },
  {
   "cell_type": "markdown",
   "id": "d741ae31",
   "metadata": {},
   "source": [
    "### Note:\n",
    "- `The warnings.filterwarnings('ignore)` suppresses all warnings messages that would normally be displayed in the console. So the output will be cleaner and easier to read."
   ]
  },
  {
   "cell_type": "code",
   "execution_count": 5,
   "id": "d5c84fa9",
   "metadata": {},
   "outputs": [],
   "source": [
    "import warnings\n",
    "warnings.filterwarnings('ignore')\n",
    "\n",
    "df = pd.read_csv('boxoffice.csv')"
   ]
  },
  {
   "cell_type": "code",
   "execution_count": 6,
   "id": "db33e4eb",
   "metadata": {},
   "outputs": [
    {
     "data": {
      "text/plain": [
       "(2694, 10)"
      ]
     },
     "execution_count": 6,
     "metadata": {},
     "output_type": "execute_result"
    }
   ],
   "source": [
    "df.shape"
   ]
  },
  {
   "cell_type": "code",
   "execution_count": 7,
   "id": "bce17479",
   "metadata": {},
   "outputs": [
    {
     "name": "stdout",
     "output_type": "stream",
     "text": [
      "<class 'pandas.core.frame.DataFrame'>\n",
      "RangeIndex: 2694 entries, 0 to 2693\n",
      "Data columns (total 10 columns):\n",
      " #   Column            Non-Null Count  Dtype \n",
      "---  ------            --------------  ----- \n",
      " 0   title             2694 non-null   object\n",
      " 1   domestic_revenue  2694 non-null   int64 \n",
      " 2   world_revenue     2694 non-null   int64 \n",
      " 3   distributor       2694 non-null   object\n",
      " 4   opening_revenue   2694 non-null   int64 \n",
      " 5   opening_theaters  2694 non-null   int64 \n",
      " 6   budget            2694 non-null   int64 \n",
      " 7   MPAA              2694 non-null   object\n",
      " 8   genres            2694 non-null   object\n",
      " 9   release_days      2694 non-null   int64 \n",
      "dtypes: int64(6), object(4)\n",
      "memory usage: 210.6+ KB\n"
     ]
    }
   ],
   "source": [
    "df.info()"
   ]
  },
  {
   "cell_type": "code",
   "execution_count": 8,
   "id": "4ac770de",
   "metadata": {},
   "outputs": [
    {
     "data": {
      "text/html": [
       "<div>\n",
       "<style scoped>\n",
       "    .dataframe tbody tr th:only-of-type {\n",
       "        vertical-align: middle;\n",
       "    }\n",
       "\n",
       "    .dataframe tbody tr th {\n",
       "        vertical-align: top;\n",
       "    }\n",
       "\n",
       "    .dataframe thead th {\n",
       "        text-align: right;\n",
       "    }\n",
       "</style>\n",
       "<table border=\"1\" class=\"dataframe\">\n",
       "  <thead>\n",
       "    <tr style=\"text-align: right;\">\n",
       "      <th></th>\n",
       "      <th>title</th>\n",
       "      <th>domestic_revenue</th>\n",
       "      <th>world_revenue</th>\n",
       "      <th>distributor</th>\n",
       "      <th>opening_revenue</th>\n",
       "      <th>opening_theaters</th>\n",
       "      <th>budget</th>\n",
       "      <th>MPAA</th>\n",
       "      <th>genres</th>\n",
       "      <th>release_days</th>\n",
       "    </tr>\n",
       "  </thead>\n",
       "  <tbody>\n",
       "    <tr>\n",
       "      <th>0</th>\n",
       "      <td>The Avengers</td>\n",
       "      <td>6026491</td>\n",
       "      <td>1274885664</td>\n",
       "      <td>Warner Bros.</td>\n",
       "      <td>163620146</td>\n",
       "      <td>253</td>\n",
       "      <td>174687337</td>\n",
       "      <td>R</td>\n",
       "      <td>Animation</td>\n",
       "      <td>16</td>\n",
       "    </tr>\n",
       "    <tr>\n",
       "      <th>1</th>\n",
       "      <td>Titanic</td>\n",
       "      <td>169411543</td>\n",
       "      <td>1132871091</td>\n",
       "      <td>Disney</td>\n",
       "      <td>85549990</td>\n",
       "      <td>122</td>\n",
       "      <td>103948486</td>\n",
       "      <td>G</td>\n",
       "      <td>Action</td>\n",
       "      <td>103</td>\n",
       "    </tr>\n",
       "    <tr>\n",
       "      <th>2</th>\n",
       "      <td>Jurassic Park</td>\n",
       "      <td>107836098</td>\n",
       "      <td>583329845</td>\n",
       "      <td>Sony</td>\n",
       "      <td>55681429</td>\n",
       "      <td>3826</td>\n",
       "      <td>122104991</td>\n",
       "      <td>NC-17</td>\n",
       "      <td>Horror</td>\n",
       "      <td>89</td>\n",
       "    </tr>\n",
       "    <tr>\n",
       "      <th>3</th>\n",
       "      <td>Avatar</td>\n",
       "      <td>51433697</td>\n",
       "      <td>1225323391</td>\n",
       "      <td>Disney</td>\n",
       "      <td>109775324</td>\n",
       "      <td>3868</td>\n",
       "      <td>46431596</td>\n",
       "      <td>G</td>\n",
       "      <td>Horror</td>\n",
       "      <td>85</td>\n",
       "    </tr>\n",
       "    <tr>\n",
       "      <th>4</th>\n",
       "      <td>The Lion King</td>\n",
       "      <td>142791649</td>\n",
       "      <td>604140729</td>\n",
       "      <td>Warner Bros.</td>\n",
       "      <td>59476800</td>\n",
       "      <td>2934</td>\n",
       "      <td>203513696</td>\n",
       "      <td>R</td>\n",
       "      <td>Comedy</td>\n",
       "      <td>158</td>\n",
       "    </tr>\n",
       "  </tbody>\n",
       "</table>\n",
       "</div>"
      ],
      "text/plain": [
       "           title  domestic_revenue  ...     genres release_days\n",
       "0   The Avengers           6026491  ...  Animation           16\n",
       "1        Titanic         169411543  ...     Action          103\n",
       "2  Jurassic Park         107836098  ...     Horror           89\n",
       "3         Avatar          51433697  ...     Horror           85\n",
       "4  The Lion King         142791649  ...     Comedy          158\n",
       "\n",
       "[5 rows x 10 columns]"
      ]
     },
     "execution_count": 8,
     "metadata": {},
     "output_type": "execute_result"
    }
   ],
   "source": [
    "df.head()"
   ]
  },
  {
   "cell_type": "code",
   "execution_count": 10,
   "id": "1b414cff",
   "metadata": {},
   "outputs": [
    {
     "data": {
      "text/html": [
       "<div>\n",
       "<style scoped>\n",
       "    .dataframe tbody tr th:only-of-type {\n",
       "        vertical-align: middle;\n",
       "    }\n",
       "\n",
       "    .dataframe tbody tr th {\n",
       "        vertical-align: top;\n",
       "    }\n",
       "\n",
       "    .dataframe thead th {\n",
       "        text-align: right;\n",
       "    }\n",
       "</style>\n",
       "<table border=\"1\" class=\"dataframe\">\n",
       "  <thead>\n",
       "    <tr style=\"text-align: right;\">\n",
       "      <th></th>\n",
       "      <th>count</th>\n",
       "      <th>mean</th>\n",
       "      <th>std</th>\n",
       "      <th>min</th>\n",
       "      <th>25%</th>\n",
       "      <th>50%</th>\n",
       "      <th>75%</th>\n",
       "      <th>max</th>\n",
       "    </tr>\n",
       "  </thead>\n",
       "  <tbody>\n",
       "    <tr>\n",
       "      <th>domestic_revenue</th>\n",
       "      <td>2694.0</td>\n",
       "      <td>1.508539e+08</td>\n",
       "      <td>8.579997e+07</td>\n",
       "      <td>827765.0</td>\n",
       "      <td>7.673272e+07</td>\n",
       "      <td>152572473.5</td>\n",
       "      <td>2.247314e+08</td>\n",
       "      <td>2.998107e+08</td>\n",
       "    </tr>\n",
       "    <tr>\n",
       "      <th>world_revenue</th>\n",
       "      <td>2694.0</td>\n",
       "      <td>7.719177e+08</td>\n",
       "      <td>4.284414e+08</td>\n",
       "      <td>3261301.0</td>\n",
       "      <td>3.991135e+08</td>\n",
       "      <td>766555142.5</td>\n",
       "      <td>1.143920e+09</td>\n",
       "      <td>1.499310e+09</td>\n",
       "    </tr>\n",
       "    <tr>\n",
       "      <th>opening_revenue</th>\n",
       "      <td>2694.0</td>\n",
       "      <td>9.971321e+07</td>\n",
       "      <td>5.721762e+07</td>\n",
       "      <td>138569.0</td>\n",
       "      <td>5.033848e+07</td>\n",
       "      <td>99814175.0</td>\n",
       "      <td>1.489805e+08</td>\n",
       "      <td>1.999336e+08</td>\n",
       "    </tr>\n",
       "    <tr>\n",
       "      <th>opening_theaters</th>\n",
       "      <td>2694.0</td>\n",
       "      <td>2.263039e+03</td>\n",
       "      <td>1.298559e+03</td>\n",
       "      <td>10.0</td>\n",
       "      <td>1.161000e+03</td>\n",
       "      <td>2271.5</td>\n",
       "      <td>3.392250e+03</td>\n",
       "      <td>4.499000e+03</td>\n",
       "    </tr>\n",
       "    <tr>\n",
       "      <th>budget</th>\n",
       "      <td>2694.0</td>\n",
       "      <td>1.537996e+08</td>\n",
       "      <td>8.557624e+07</td>\n",
       "      <td>5197977.0</td>\n",
       "      <td>7.861876e+07</td>\n",
       "      <td>156256716.0</td>\n",
       "      <td>2.274832e+08</td>\n",
       "      <td>2.998597e+08</td>\n",
       "    </tr>\n",
       "    <tr>\n",
       "      <th>release_days</th>\n",
       "      <td>2694.0</td>\n",
       "      <td>9.089755e+01</td>\n",
       "      <td>5.089404e+01</td>\n",
       "      <td>1.0</td>\n",
       "      <td>4.700000e+01</td>\n",
       "      <td>91.0</td>\n",
       "      <td>1.350000e+02</td>\n",
       "      <td>1.790000e+02</td>\n",
       "    </tr>\n",
       "  </tbody>\n",
       "</table>\n",
       "</div>"
      ],
      "text/plain": [
       "                   count          mean  ...           75%           max\n",
       "domestic_revenue  2694.0  1.508539e+08  ...  2.247314e+08  2.998107e+08\n",
       "world_revenue     2694.0  7.719177e+08  ...  1.143920e+09  1.499310e+09\n",
       "opening_revenue   2694.0  9.971321e+07  ...  1.489805e+08  1.999336e+08\n",
       "opening_theaters  2694.0  2.263039e+03  ...  3.392250e+03  4.499000e+03\n",
       "budget            2694.0  1.537996e+08  ...  2.274832e+08  2.998597e+08\n",
       "release_days      2694.0  9.089755e+01  ...  1.350000e+02  1.790000e+02\n",
       "\n",
       "[6 rows x 8 columns]"
      ]
     },
     "execution_count": 10,
     "metadata": {},
     "output_type": "execute_result"
    }
   ],
   "source": [
    "df.describe().T # T is short for Transpose, which flips the rows and columns"
   ]
  },
  {
   "cell_type": "code",
   "execution_count": 12,
   "id": "662e1e38",
   "metadata": {},
   "outputs": [
    {
     "data": {
      "text/html": [
       "<div>\n",
       "<style scoped>\n",
       "    .dataframe tbody tr th:only-of-type {\n",
       "        vertical-align: middle;\n",
       "    }\n",
       "\n",
       "    .dataframe tbody tr th {\n",
       "        vertical-align: top;\n",
       "    }\n",
       "\n",
       "    .dataframe thead th {\n",
       "        text-align: right;\n",
       "    }\n",
       "</style>\n",
       "<table border=\"1\" class=\"dataframe\">\n",
       "  <thead>\n",
       "    <tr style=\"text-align: right;\">\n",
       "      <th></th>\n",
       "      <th>domestic_revenue</th>\n",
       "      <th>opening_theaters</th>\n",
       "      <th>budget</th>\n",
       "      <th>release_days</th>\n",
       "    </tr>\n",
       "  </thead>\n",
       "  <tbody>\n",
       "    <tr>\n",
       "      <th>count</th>\n",
       "      <td>2.694000e+03</td>\n",
       "      <td>2694.000000</td>\n",
       "      <td>2.694000e+03</td>\n",
       "      <td>2694.000000</td>\n",
       "    </tr>\n",
       "    <tr>\n",
       "      <th>mean</th>\n",
       "      <td>1.508539e+08</td>\n",
       "      <td>2263.039347</td>\n",
       "      <td>1.537996e+08</td>\n",
       "      <td>90.897550</td>\n",
       "    </tr>\n",
       "    <tr>\n",
       "      <th>std</th>\n",
       "      <td>8.579997e+07</td>\n",
       "      <td>1298.559140</td>\n",
       "      <td>8.557624e+07</td>\n",
       "      <td>50.894041</td>\n",
       "    </tr>\n",
       "    <tr>\n",
       "      <th>min</th>\n",
       "      <td>8.277650e+05</td>\n",
       "      <td>10.000000</td>\n",
       "      <td>5.197977e+06</td>\n",
       "      <td>1.000000</td>\n",
       "    </tr>\n",
       "    <tr>\n",
       "      <th>25%</th>\n",
       "      <td>7.673272e+07</td>\n",
       "      <td>1161.000000</td>\n",
       "      <td>7.861876e+07</td>\n",
       "      <td>47.000000</td>\n",
       "    </tr>\n",
       "    <tr>\n",
       "      <th>50%</th>\n",
       "      <td>1.525725e+08</td>\n",
       "      <td>2271.500000</td>\n",
       "      <td>1.562567e+08</td>\n",
       "      <td>91.000000</td>\n",
       "    </tr>\n",
       "    <tr>\n",
       "      <th>75%</th>\n",
       "      <td>2.247314e+08</td>\n",
       "      <td>3392.250000</td>\n",
       "      <td>2.274832e+08</td>\n",
       "      <td>135.000000</td>\n",
       "    </tr>\n",
       "    <tr>\n",
       "      <th>max</th>\n",
       "      <td>2.998107e+08</td>\n",
       "      <td>4499.000000</td>\n",
       "      <td>2.998597e+08</td>\n",
       "      <td>179.000000</td>\n",
       "    </tr>\n",
       "  </tbody>\n",
       "</table>\n",
       "</div>"
      ],
      "text/plain": [
       "       domestic_revenue  opening_theaters        budget  release_days\n",
       "count      2.694000e+03       2694.000000  2.694000e+03   2694.000000\n",
       "mean       1.508539e+08       2263.039347  1.537996e+08     90.897550\n",
       "std        8.579997e+07       1298.559140  8.557624e+07     50.894041\n",
       "min        8.277650e+05         10.000000  5.197977e+06      1.000000\n",
       "25%        7.673272e+07       1161.000000  7.861876e+07     47.000000\n",
       "50%        1.525725e+08       2271.500000  1.562567e+08     91.000000\n",
       "75%        2.247314e+08       3392.250000  2.274832e+08    135.000000\n",
       "max        2.998107e+08       4499.000000  2.998597e+08    179.000000"
      ]
     },
     "execution_count": 12,
     "metadata": {},
     "output_type": "execute_result"
    }
   ],
   "source": [
    "df.drop(columns=['world_revenue', 'opening_revenue'], inplace=True)\n",
    "df.describe()"
   ]
  },
  {
   "cell_type": "code",
   "execution_count": 15,
   "id": "045350c1",
   "metadata": {},
   "outputs": [
    {
     "data": {
      "text/plain": [
       "title               0.0\n",
       "domestic_revenue    0.0\n",
       "distributor         0.0\n",
       "opening_theaters    0.0\n",
       "budget              0.0\n",
       "MPAA                0.0\n",
       "genres              0.0\n",
       "release_days        0.0\n",
       "dtype: float64"
      ]
     },
     "execution_count": 15,
     "metadata": {},
     "output_type": "execute_result"
    }
   ],
   "source": [
    "df.isnull().sum()*100 / df.shape[0]"
   ]
  },
  {
   "cell_type": "code",
   "execution_count": 16,
   "id": "c8aa34e3",
   "metadata": {},
   "outputs": [
    {
     "name": "stdout",
     "output_type": "stream",
     "text": [
      "<bound method DataFrame.to_string of               title  domestic_revenue  ...     genres  release_days\n",
      "0      The Avengers           6026491  ...  Animation            16\n",
      "1           Titanic         169411543  ...     Action           103\n",
      "2     Jurassic Park         107836098  ...     Horror            89\n",
      "3            Avatar          51433697  ...     Horror            85\n",
      "4     The Lion King         142791649  ...     Comedy           158\n",
      "...             ...               ...  ...        ...           ...\n",
      "2689          X-Men          38153242  ...     Comedy            92\n",
      "2690     The Matrix          63305093  ...     Comedy           156\n",
      "2691   Forrest Gump         271758510  ...      Drama           146\n",
      "2692           Jaws         268259149  ...   Thriller           170\n",
      "2693   Interstellar         158336835  ...     Comedy           170\n",
      "\n",
      "[2694 rows x 8 columns]>\n"
     ]
    }
   ],
   "source": [
    "print(df.to_string)"
   ]
  },
  {
   "cell_type": "code",
   "execution_count": 17,
   "id": "b64a6469",
   "metadata": {},
   "outputs": [
    {
     "name": "stdout",
     "output_type": "stream",
     "text": [
      "<class 'pandas.core.frame.DataFrame'>\n",
      "RangeIndex: 2694 entries, 0 to 2693\n",
      "Data columns (total 8 columns):\n",
      " #   Column            Non-Null Count  Dtype \n",
      "---  ------            --------------  ----- \n",
      " 0   title             2694 non-null   object\n",
      " 1   domestic_revenue  2694 non-null   int64 \n",
      " 2   distributor       2694 non-null   object\n",
      " 3   opening_theaters  2694 non-null   int64 \n",
      " 4   budget            2694 non-null   int64 \n",
      " 5   MPAA              2694 non-null   object\n",
      " 6   genres            2694 non-null   object\n",
      " 7   release_days      2694 non-null   int64 \n",
      "dtypes: int64(4), object(4)\n",
      "memory usage: 168.5+ KB\n"
     ]
    }
   ],
   "source": [
    "df.info()"
   ]
  },
  {
   "cell_type": "code",
   "execution_count": 18,
   "id": "27c0ce66",
   "metadata": {},
   "outputs": [],
   "source": [
    "df['domestic_revenue'] = df['domestic_revenue'].astype(str).str[1:]\n",
    "\n",
    "for col in ['domestic_revenue', 'opening_theaters', 'release_days']:\n",
    "    df[col] = df[col].astype(str).str.replace(',', '') \n",
    "    temp = (~df[col].isnull()) \n",
    "    df[temp][col] = df[temp][col].convert_dtypes(float) \n",
    "    df[col] = pd.to_numeric(df[col], errors='coerce')"
   ]
  },
  {
   "cell_type": "code",
   "execution_count": 19,
   "id": "778048ee",
   "metadata": {},
   "outputs": [
    {
     "name": "stdout",
     "output_type": "stream",
     "text": [
      "<bound method DataFrame.to_string of               title  domestic_revenue  ...     genres  release_days\n",
      "0      The Avengers             26491  ...  Animation            16\n",
      "1           Titanic          69411543  ...     Action           103\n",
      "2     Jurassic Park           7836098  ...     Horror            89\n",
      "3            Avatar           1433697  ...     Horror            85\n",
      "4     The Lion King          42791649  ...     Comedy           158\n",
      "...             ...               ...  ...        ...           ...\n",
      "2689          X-Men           8153242  ...     Comedy            92\n",
      "2690     The Matrix           3305093  ...     Comedy           156\n",
      "2691   Forrest Gump          71758510  ...      Drama           146\n",
      "2692           Jaws          68259149  ...   Thriller           170\n",
      "2693   Interstellar          58336835  ...     Comedy           170\n",
      "\n",
      "[2694 rows x 8 columns]>\n"
     ]
    }
   ],
   "source": [
    "print(df.to_string)"
   ]
  },
  {
   "cell_type": "code",
   "execution_count": 21,
   "id": "0105393b",
   "metadata": {},
   "outputs": [
    {
     "ename": "NameError",
     "evalue": "name 'plt' is not defined",
     "output_type": "error",
     "traceback": [
      "\u001b[31m---------------------------------------------------------------------------\u001b[39m",
      "\u001b[31mNameError\u001b[39m                                 Traceback (most recent call last)",
      "\u001b[36mCell\u001b[39m\u001b[36m \u001b[39m\u001b[32mIn[21]\u001b[39m\u001b[32m, line 3\u001b[39m\n\u001b[32m      1\u001b[39m df[\u001b[33m\"\u001b[39m\u001b[33mMPAA\u001b[39m\u001b[33m\"\u001b[39m].value_counts().plot(kind=\u001b[33m'\u001b[39m\u001b[33mbar\u001b[39m\u001b[33m'\u001b[39m)\n\u001b[32m----> \u001b[39m\u001b[32m3\u001b[39m \u001b[43mplt\u001b[49m.title(\u001b[33m'\u001b[39m\u001b[33mBar Chart of MPAA\u001b[39m\u001b[33m'\u001b[39m)\n\u001b[32m      5\u001b[39m plt.xlabel(\u001b[33m'\u001b[39m\u001b[33mCategory\u001b[39m\u001b[33m'\u001b[39m)\n\u001b[32m      7\u001b[39m plt.ylabel(\u001b[33m'\u001b[39m\u001b[33mCount\u001b[39m\u001b[33m'\u001b[39m)\n",
      "\u001b[31mNameError\u001b[39m: name 'plt' is not defined"
     ]
    },
    {
     "data": {
      "image/png": "[encoded data removed]",
      "text/plain": [
       "<Figure size 640x480 with 1 Axes>"
      ]
     },
     "metadata": {},
     "output_type": "display_data"
    }
   ],
   "source": [
    "\n",
    "df[\"MPAA\"].value_counts().plot(kind='bar')\n",
    "\n",
    "plt.title('Bar Chart of MPAA')\n",
    "\n",
    "plt.xlabel('Category')\n",
    "\n",
    "plt.ylabel('Count')\n",
    "\n",
    "plt.show()"
   ]
  },
  {
   "cell_type": "code",
   "execution_count": null,
   "id": "60d0c249",
   "metadata": {},
   "outputs": [],
   "source": [
    "# Average domestic revenue by MPAA rating\n",
    "# subplots"
   ]
  }
 ],
 "metadata": {
  "kernelspec": {
   "display_name": "DataScience",
   "language": "python",
   "name": "python3"
  },
  "language_info": {
   "codemirror_mode": {
    "name": "ipython",
    "version": 3
   },
   "file_extension": ".py",
   "mimetype": "text/x-python",
   "name": "python",
   "nbconvert_exporter": "python",
   "pygments_lexer": "ipython3",
   "version": "3.13.3"
  }
 },
 "nbformat": 4,
 "nbformat_minor": 5
}
