{
 "cells": [
  {
   "cell_type": "code",
   "execution_count": 1,
   "id": "2202b6e7-555a-4b6e-98dd-56c3704d2628",
   "metadata": {},
   "outputs": [
    {
     "name": "stdout",
     "output_type": "stream",
     "text": [
      "['Akanga', 'Eve', 'Norah', 'Laurah', 'Rorlyn']\n"
     ]
    }
   ],
   "source": [
    "#Lists\n",
    "names = [\"Andrew\", \"Eve\",\"Norah\", \"Laurah\", \"Rorlyn\"]\n",
    "#Updating the first name\n",
    "names[0] = \"Akanga\"\n",
    "print(names)"
   ]
  },
  {
   "cell_type": "code",
   "execution_count": 2,
   "id": "6fb973c6-4faa-47b8-9fff-518541874ced",
   "metadata": {},
   "outputs": [
    {
     "name": "stdout",
     "output_type": "stream",
     "text": [
      "['Akanga', 'Eve', 'Norah', 'Laurah', 'Rorlyn', 'Martha']\n"
     ]
    }
   ],
   "source": [
    "#Adding a sixth name\n",
    "names.append(\"Martha\")\n",
    "print(names)"
   ]
  },
  {
   "cell_type": "code",
   "execution_count": 3,
   "id": "8ac20c61-9c20-4fc5-9fa3-620214adba1e",
   "metadata": {},
   "outputs": [
    {
     "name": "stdout",
     "output_type": "stream",
     "text": [
      "['Akanga', 'Eve', 'Bathel', 'Norah', 'Laurah', 'Rorlyn', 'Martha']\n"
     ]
    }
   ],
   "source": [
    "#inserting a name in the 3rd position\n",
    "names.insert(2, \"Bathel\")\n",
    "print(names)"
   ]
  },
  {
   "cell_type": "code",
   "execution_count": 45,
   "id": "bf233cba-db3a-4044-90cc-38696ca80c13",
   "metadata": {},
   "outputs": [
    {
     "name": "stdout",
     "output_type": "stream",
     "text": [
      "['Akanga', 'Eve', 'Bathel', 'Rorlyn', 'Martha']\n",
      "5\n"
     ]
    }
   ],
   "source": [
    "#Remove a specific index element\n",
    "names.pop(3)\n",
    "\n",
    "print(names)\n",
    "print(len(names))\n"
   ]
  },
  {
   "cell_type": "code",
   "execution_count": 6,
   "id": "2bf85f45-936e-4d91-bce2-d40b34d8f9b3",
   "metadata": {},
   "outputs": [
    {
     "name": "stdout",
     "output_type": "stream",
     "text": [
      "Martha\n"
     ]
    }
   ],
   "source": [
    "#Accessing elements using negative indexing\n",
    "print(names[-1])"
   ]
  },
  {
   "cell_type": "code",
   "execution_count": 7,
   "id": "fef88e73-5818-4c52-ad8c-9f83ee67e2c7",
   "metadata": {},
   "outputs": [
    {
     "name": "stdout",
     "output_type": "stream",
     "text": [
      "['Pagani Huayra', 'Porsche 911', 'McLaren Senna']\n"
     ]
    }
   ],
   "source": [
    "#Slicing\n",
    "cars = list((\"Ford Mustarg\",\"Aston Martin Valkyrie\", \"Pagani Huayra\", \"Porsche 911\", \"McLaren Senna\", \"Koenigsegg Jesko\", \"Bugatti Chiron\"))\n",
    "print(cars[2:5])"
   ]
  },
  {
   "cell_type": "code",
   "execution_count": 8,
   "id": "f16d16fd-0040-4fcd-a8e2-dd7dfaa0269d",
   "metadata": {},
   "outputs": [
    {
     "name": "stdout",
     "output_type": "stream",
     "text": [
      "['Uganda', 'Kenya', 'Tanzania', 'Rwanda', 'Burundi']\n"
     ]
    }
   ],
   "source": [
    "#Copying a list\n",
    "countries = [\"Uganda\", \"Kenya\", \"Tanzania\", \"Rwanda\", \"Burundi\"]\n",
    "copy_countries = countries.copy()\n",
    "print(copy_countries)\n"
   ]
  },
  {
   "cell_type": "code",
   "execution_count": 9,
   "id": "a109bdb0-4b90-4ba2-ba0f-b3d0206cc925",
   "metadata": {},
   "outputs": [
    {
     "name": "stdout",
     "output_type": "stream",
     "text": [
      "Uganda\n",
      "Kenya\n",
      "Tanzania\n",
      "Rwanda\n",
      "Burundi\n"
     ]
    }
   ],
   "source": [
    "#looping through a list\n",
    "for country in  countries:\n",
    "    print(country)"
   ]
  },
  {
   "cell_type": "code",
   "execution_count": 10,
   "id": "c61cb9b6-9fce-4731-9885-7865bb1c0e03",
   "metadata": {},
   "outputs": [
    {
     "name": "stdout",
     "output_type": "stream",
     "text": [
      "['Cat', 'Dog', 'Elephant', 'Lion', 'Tiger']\n",
      "['Tiger', 'Lion', 'Elephant', 'Dog', 'Cat']\n"
     ]
    }
   ],
   "source": [
    "#Sorting a list\n",
    "animal = [\"Dog\", \"Cat\", \"Elephant\", \"Lion\", \"Tiger\"]\n",
    "#ascending\n",
    "animal.sort()\n",
    "print(animal)\n",
    "#descending\n",
    "animal.sort(reverse=True)\n",
    "print(animal)"
   ]
  },
  {
   "cell_type": "code",
   "execution_count": 11,
   "id": "631e7d16-4491-4744-be2f-17342fc5a9ad",
   "metadata": {},
   "outputs": [
    {
     "name": "stdout",
     "output_type": "stream",
     "text": [
      "Elephant\n",
      "Cat\n"
     ]
    }
   ],
   "source": [
    "#printing all elements with letter \"a\"\n",
    "for a in animal:\n",
    "    if \"a\" in a:\n",
    "        print(a)"
   ]
  },
  {
   "cell_type": "code",
   "execution_count": 12,
   "id": "4892db81-ec9e-490f-b363-f806c9a0d8df",
   "metadata": {},
   "outputs": [
    {
     "name": "stdout",
     "output_type": "stream",
     "text": [
      "['Bwebale', 'Akanga', 'Segunja', 'Grey', 'Andrew', 'Alma']\n"
     ]
    }
   ],
   "source": [
    "#Joining a list\n",
    "first_names = [\"Bwebale\", \"Akanga\", \"Segunja\"]\n",
    "Second_names= [\"Grey\", \"Andrew\", \"Alma\"]\n",
    "\n",
    "Full_name = first_names + Second_names\n",
    "print(Full_name)"
   ]
  },
  {
   "cell_type": "code",
   "execution_count": 13,
   "id": "bfab1c31-79e5-4326-a189-f54dd4466d88",
   "metadata": {},
   "outputs": [
    {
     "name": "stdout",
     "output_type": "stream",
     "text": [
      "Bwebale Grey\n",
      "Akanga Andrew\n",
      "Segunja Alma\n"
     ]
    }
   ],
   "source": [
    "#what i want to match first name to second\n",
    "Full_name.clear()\n",
    "i=0\n",
    "while i < len(first_names):\n",
    "    temp = first_names[i] + \" \" + Second_names[i]\n",
    "    Full_name.append(temp)\n",
    "    i+=1\n",
    "\n",
    "for name in Full_name:\n",
    "    print(name)\n"
   ]
  },
  {
   "cell_type": "code",
   "execution_count": 14,
   "id": "edae9195-b0c1-4c88-8557-635f2cb5f59c",
   "metadata": {},
   "outputs": [
    {
     "name": "stdout",
     "output_type": "stream",
     "text": [
      "tecno\n"
     ]
    },
    {
     "ename": "TypeError",
     "evalue": "'tuple' object does not support item assignment",
     "output_type": "error",
     "traceback": [
      "\u001b[31m---------------------------------------------------------------------------\u001b[39m",
      "\u001b[31mTypeError\u001b[39m                                 Traceback (most recent call last)",
      "\u001b[36mCell\u001b[39m\u001b[36m \u001b[39m\u001b[32mIn[14]\u001b[39m\u001b[32m, line 6\u001b[39m\n\u001b[32m      3\u001b[39m x = (\u001b[33m\"\u001b[39m\u001b[33msamsung\u001b[39m\u001b[33m\"\u001b[39m, \u001b[33m\"\u001b[39m\u001b[33miphone\u001b[39m\u001b[33m\"\u001b[39m, \u001b[33m\"\u001b[39m\u001b[33mtecno\u001b[39m\u001b[33m\"\u001b[39m, \u001b[33m\"\u001b[39m\u001b[33mredmi\u001b[39m\u001b[33m\"\u001b[39m)\n\u001b[32m      4\u001b[39m \u001b[38;5;28mprint\u001b[39m(x[-\u001b[32m2\u001b[39m])\n\u001b[32m----> \u001b[39m\u001b[32m6\u001b[39m \u001b[43mx\u001b[49m\u001b[43m[\u001b[49m\u001b[32;43m1\u001b[39;49m\u001b[43m]\u001b[49m= \u001b[33m\"\u001b[39m\u001b[33mitel\u001b[39m\u001b[33m\"\u001b[39m\n\u001b[32m      7\u001b[39m \u001b[38;5;28mprint\u001b[39m(x)\n",
      "\u001b[31mTypeError\u001b[39m: 'tuple' object does not support item assignment"
     ]
    }
   ],
   "source": [
    "#Tuples\n",
    "\n",
    "x = (\"samsung\", \"iphone\", \"tecno\", \"redmi\")\n",
    "print(x[-2])\n",
    "\n",
    "x[1]= \"itel\"\n",
    "print(x)"
   ]
  },
  {
   "cell_type": "code",
   "execution_count": 15,
   "id": "5a3a827a-0605-429b-9d97-e6c2ec091b27",
   "metadata": {},
   "outputs": [
    {
     "name": "stdout",
     "output_type": "stream",
     "text": [
      "('samsung', 'itel', 'tecno', 'redmi')\n"
     ]
    }
   ],
   "source": [
    "#Tuples are immutable so trying to update a tuple after creation will throw an error\n",
    "#However, I can convert a tuple to a list, then update the list and convert it back\n",
    "x = list(x)\n",
    "x[1]= \"itel\"\n",
    "x = tuple(x)\n",
    "print(x)"
   ]
  },
  {
   "cell_type": "code",
   "execution_count": 16,
   "id": "d3fa10f9-5a89-4b36-876b-d4a2f5b3217e",
   "metadata": {},
   "outputs": [
    {
     "name": "stdout",
     "output_type": "stream",
     "text": [
      "('samsung', 'itel', 'tecno', 'redmi', 'Huawei')\n"
     ]
    }
   ],
   "source": [
    "#Appending an element to a tuple\n",
    "x = list(x)\n",
    "x.append(\"Huawei\")\n",
    "x = tuple(x)\n",
    "print(x)"
   ]
  },
  {
   "cell_type": "code",
   "execution_count": 17,
   "id": "7c22bbf8-dd8c-477b-9609-75358419fecd",
   "metadata": {},
   "outputs": [
    {
     "name": "stdout",
     "output_type": "stream",
     "text": [
      "samsung\n",
      "itel\n",
      "tecno\n",
      "redmi\n",
      "Huawei\n"
     ]
    }
   ],
   "source": [
    "#looping through a list\n",
    "for i in x:\n",
    "    print(i)\n"
   ]
  },
  {
   "cell_type": "code",
   "execution_count": 18,
   "id": "bba64118-5099-46ea-8fc3-5c33c2d9a27c",
   "metadata": {},
   "outputs": [
    {
     "name": "stdout",
     "output_type": "stream",
     "text": [
      "('itel', 'tecno', 'redmi', 'Huawei')\n"
     ]
    }
   ],
   "source": [
    "#popping a given element a specific index\n",
    "x = list(x)\n",
    "x.pop(0)\n",
    "x = tuple(x)\n",
    "print(x)"
   ]
  },
  {
   "cell_type": "code",
   "execution_count": 20,
   "id": "f17f80c5-0ec2-40a6-aa16-e99746545bdc",
   "metadata": {},
   "outputs": [
    {
     "name": "stdout",
     "output_type": "stream",
     "text": [
      "Kampala\n",
      "['Mbarara', 'Jinja', 'Gulu']\n"
     ]
    }
   ],
   "source": [
    "#unpacking a tuple.\n",
    "#*name_of_an_element means that \"name_of_an_element is a list\n",
    "cities = tuple((\"Kampala\", \"Masaka\", \"Mbarara\", \"Jinja\", \"Gulu\"))\n",
    "city1, city2, *city3 = cities\n",
    "print(city1)\n",
    "print(city3)"
   ]
  },
  {
   "cell_type": "code",
   "execution_count": 21,
   "id": "3ed8c11e-cc66-41a2-9686-5097b7801572",
   "metadata": {},
   "outputs": [
    {
     "name": "stdout",
     "output_type": "stream",
     "text": [
      "('Masaka', 'Mbarara', 'Jinja')\n"
     ]
    }
   ],
   "source": [
    "#slicing a tuple\n",
    "print(cities[1:4])"
   ]
  },
  {
   "cell_type": "code",
   "execution_count": 22,
   "id": "e7309b49-3e96-4fee-bd7f-ac234f75b431",
   "metadata": {},
   "outputs": [
    {
     "name": "stdout",
     "output_type": "stream",
     "text": [
      "('Bwebale', 'Akanga', 'Segunja', 'Grey', 'Andrew', 'Alma')\n"
     ]
    }
   ],
   "source": [
    "#joining\n",
    "first_names = (\"Bwebale\", \"Akanga\", \"Segunja\")\n",
    "second_names = (\"Grey\", \"Andrew\", \"Alma\")   \n",
    "full_names = first_names + second_names\n",
    "print(full_names)"
   ]
  },
  {
   "cell_type": "code",
   "execution_count": 23,
   "id": "7b17ba7e-0e69-473d-a7fa-f3a0d25534b8",
   "metadata": {},
   "outputs": [
    {
     "name": "stdout",
     "output_type": "stream",
     "text": [
      "('red', 'green', 'blue', 'red', 'green', 'blue', 'red', 'green', 'blue')\n"
     ]
    }
   ],
   "source": [
    "#multipling by a integer\n",
    "colors = (\"red\", \"green\", \"blue\")\n",
    "print(colors*3)"
   ]
  },
  {
   "cell_type": "code",
   "execution_count": 24,
   "id": "1ee5d813-185e-460b-a422-57553af26119",
   "metadata": {},
   "outputs": [
    {
     "name": "stdout",
     "output_type": "stream",
     "text": [
      "2\n"
     ]
    }
   ],
   "source": [
    "# number of times an element appears\n",
    "thistuple = (1,3,7,8,7,5,4,6,8,5)\n",
    "count = 0\n",
    "for i in thistuple:\n",
    "    if i == 8:\n",
    "        count+=1\n",
    "print(count)"
   ]
  },
  {
   "cell_type": "code",
   "execution_count": 25,
   "id": "b9985e96-bff0-4f8b-819d-497951bc6abc",
   "metadata": {},
   "outputs": [
    {
     "name": "stdout",
     "output_type": "stream",
     "text": [
      "{'Tusk lite', 'Nile Special', 'Bell Lager', 'Smirnoff', 'Walagi'}\n"
     ]
    }
   ],
   "source": [
    "#Sets\n",
    "fav_drinks = set((\"Smirnoff\", \"Tusk lite\", \"Nile Special\"))\n",
    "fav_drinks.add(\"Bell Lager\")\n",
    "fav_drinks.add(\"Walagi\") # Atimes\n",
    "print(fav_drinks)"
   ]
  },
  {
   "cell_type": "code",
   "execution_count": 26,
   "id": "559b6bec-ae09-4f28-bf22-c288a3e9c327",
   "metadata": {},
   "outputs": [
    {
     "name": "stdout",
     "output_type": "stream",
     "text": [
      "True\n"
     ]
    }
   ],
   "source": [
    "#Checking presence of an element\n",
    "my_set = {\"oven\", \"kettle\", \"microwave\", \"refrigerator\"}\n",
    "print(\"microwave\" in my_set)"
   ]
  },
  {
   "cell_type": "code",
   "execution_count": 27,
   "id": "ef36dd22-a2e3-4aff-bd53-cef157220253",
   "metadata": {},
   "outputs": [
    {
     "name": "stdout",
     "output_type": "stream",
     "text": [
      "{'oven', 'microwave', 'refrigerator'}\n"
     ]
    }
   ],
   "source": [
    "my_set.remove(\"kettle\")\n",
    "print(my_set)\n",
    "#Removing an element that doesnt exist will throw an error"
   ]
  },
  {
   "cell_type": "code",
   "execution_count": 28,
   "id": "0d10a48e-6c1a-44f8-82c1-b20f0140393c",
   "metadata": {},
   "outputs": [
    {
     "name": "stdout",
     "output_type": "stream",
     "text": [
      "{'oven', 'microwave', 'refrigerator'}\n"
     ]
    }
   ],
   "source": [
    "# however using discard() will remove an element if it exists and do nothing if it doesn't\n",
    "my_set.discard(\"Baby cooker\")\n",
    "print(my_set)\n"
   ]
  },
  {
   "cell_type": "code",
   "execution_count": 29,
   "id": "38e0d003-e7a2-4fd6-a0fe-f05c5b4bbb38",
   "metadata": {},
   "outputs": [
    {
     "name": "stdout",
     "output_type": "stream",
     "text": [
      "oven\n",
      "microwave\n",
      "refrigerator\n"
     ]
    }
   ],
   "source": [
    "#looping through\n",
    "for i in my_set:\n",
    "    print(i)"
   ]
  },
  {
   "cell_type": "code",
   "execution_count": 30,
   "id": "d4603ab4-7953-4a44-aaab-e041709391e1",
   "metadata": {},
   "outputs": [
    {
     "name": "stdout",
     "output_type": "stream",
     "text": [
      "{'so sweet', 'so dirty', 'but love', 'talk so pretty', 'but your heart got teeth', 'fight'}\n"
     ]
    }
   ],
   "source": [
    "#Can't change the values of a set once created but you can add and remove elements\n",
    "\n",
    "sweet = {\"fight\", \"so dirty\", \"but love\" , \"so sweet\"}\n",
    "sweet.add(\"talk so pretty\")\n",
    "sweet.add(\"but your heart got teeth\")\n",
    "\n",
    "print(sweet)\n"
   ]
  },
  {
   "cell_type": "code",
   "execution_count": 32,
   "id": "8c52f9a5-e7da-4d12-b274-1cac9e8961ca",
   "metadata": {},
   "outputs": [
    {
     "name": "stdout",
     "output_type": "stream",
     "text": [
      "{'Akanga', 'Alma', 'Grey', 'Andrew', 'Bwebale', 'Segunja'}\n"
     ]
    }
   ],
   "source": [
    "#joining sets\n",
    "first_names = {\"Bwebale\", \"Akanga\", \"Segunja\"}\n",
    "second_names = {\"Grey\", \"Andrew\", \"Alma\"}\n",
    "full_names = first_names.union(second_names)\n",
    "print(full_names)"
   ]
  },
  {
   "cell_type": "code",
   "execution_count": 33,
   "id": "236b89b4-6f0d-4dda-817e-3c484995c602",
   "metadata": {},
   "outputs": [
    {
     "name": "stdout",
     "output_type": "stream",
     "text": [
      "My name is Andrew and I am 20 years old\n",
      "My name is Andrew and I am 20 years old\n",
      "My name is Andrew and I am 20 years old\n"
     ]
    }
   ],
   "source": [
    "#Strings\n",
    "age = 20\n",
    "name = \"Andrew\"\n",
    "\n",
    "print(\"My name is \" + name + \" and I am \" + str(age) + \" years old\")\n",
    "print(f\"My name is {name} and I am {str(age)} years old\")\n",
    "print(\"My name is {} and I am {} years old\".format(name, age))"
   ]
  },
  {
   "cell_type": "code",
   "execution_count": 34,
   "id": "4272e994-1edb-4be2-8073-8a5742b810a3",
   "metadata": {},
   "outputs": [
    {
     "name": "stdout",
     "output_type": "stream",
     "text": [
      "Hello, Uganda!\n"
     ]
    }
   ],
   "source": [
    "txt = \"      Hello, Uganda!     \"\n",
    "print(txt.strip()) # removes trailing and leading spaces"
   ]
  },
  {
   "cell_type": "code",
   "execution_count": 35,
   "id": "9ebfe993-01a5-40a8-afab-1f6112173041",
   "metadata": {},
   "outputs": [
    {
     "name": "stdout",
     "output_type": "stream",
     "text": [
      "      Hello, Vganda!     \n"
     ]
    }
   ],
   "source": [
    "print(txt.replace(\"U\", \"V\"))\n",
    "#note replace() does not change the original string, it returns a new string"
   ]
  },
  {
   "cell_type": "code",
   "execution_count": 36,
   "id": "81b7a394-b97c-42f3-98d5-b25ce9a89e52",
   "metadata": {},
   "outputs": [
    {
     "name": "stdout",
     "output_type": "stream",
     "text": [
      "      Hello, Vganda!     \n"
     ]
    }
   ],
   "source": [
    "print(txt.replace(\"U\", \"V\"))\n",
    "#note replace() does not change the original string, it returns a new string"
   ]
  },
  {
   "cell_type": "code",
   "execution_count": 37,
   "id": "edeccedb-243f-404c-bd4c-5f46148b7a2e",
   "metadata": {},
   "outputs": [],
   "source": [
    "#Correcting \"All \"Data Scientists\" are are cool!\"\n",
    "x = 'All \"Data Scientists\" are cool!'"
   ]
  },
  {
   "cell_type": "code",
   "execution_count": 50,
   "id": "60e74981-da36-46fa-b6fa-eb0aad284427",
   "metadata": {},
   "outputs": [
    {
     "name": "stdout",
     "output_type": "stream",
     "text": [
      "3\n",
      "<class 'dict'>\n",
      "41\n",
      "Adidas\n",
      "{'brand': 'Adidas', 'color': 'black', 'size': 42, 'type': 'sneakers'}\n"
     ]
    }
   ],
   "source": [
    "#Dictionaries\n",
    "#Store key_value pairs\n",
    "#ordered\n",
    "#Changable\n",
    "Shoes = {\n",
    "    \"brand\" : \"Nick\",\n",
    "    \"color\" : \"black\",\n",
    "    \"size\" : 41\n",
    "}\n",
    "print(len(Shoes))\n",
    "print(type(Shoes))\n",
    "\n",
    "print(Shoes[\"size\"])\n",
    "Shoes[\"brand\"] = \"Adidas\"\n",
    "print(Shoes[\"brand\"])\n",
    "Shoes.update({\"size\" :42})\n",
    "\n",
    "Shoes[\"type\"] = \"sneakers\"\n",
    "print(Shoes)"
   ]
  },
  {
   "cell_type": "code",
   "execution_count": 39,
   "id": "0332c074-e936-4b0d-afd9-4d3e9209a0b2",
   "metadata": {},
   "outputs": [
    {
     "name": "stdout",
     "output_type": "stream",
     "text": [
      "brand\n",
      "color\n",
      "size\n",
      "type\n",
      "\n",
      "\n",
      "\n",
      "\n",
      "Adidas\n",
      "black\n",
      "41\n",
      "sneakers\n",
      "\n",
      "\n",
      "\n",
      "\n",
      "brand Adidas\n",
      "color black\n",
      "size 41\n",
      "type sneakers\n"
     ]
    }
   ],
   "source": [
    "#looping through keys\n",
    "for key in Shoes:\n",
    "    print(key)\n",
    "#looping through values\n",
    "print(\"\\n\\n\\n\")\n",
    "for key in Shoes:\n",
    "    print(Shoes[key])\n",
    "print(\"\\n\\n\\n\")\n",
    "\n",
    "#looping keys and values at once\n",
    "for key, value in Shoes.items():\n",
    "    print(key, value)"
   ]
  },
  {
   "cell_type": "code",
   "execution_count": 40,
   "id": "3c882b45-4e93-40ea-b58d-3a8c3f1acde6",
   "metadata": {},
   "outputs": [
    {
     "name": "stdout",
     "output_type": "stream",
     "text": [
      "ofcourse\n"
     ]
    }
   ],
   "source": [
    "#checking a presence in dictionary\n",
    "if \"size\" in Shoes:\n",
    "    print(\"ofcourse\")"
   ]
  },
  {
   "cell_type": "code",
   "execution_count": 41,
   "id": "b5667fee-fe51-41ac-82d7-f94b2d9904e9",
   "metadata": {},
   "outputs": [
    {
     "name": "stdout",
     "output_type": "stream",
     "text": [
      "{'brand': 'Adidas', 'size': 41, 'type': 'sneakers'}\n",
      "{}\n"
     ]
    }
   ],
   "source": [
    "#Deleting a given element\n",
    "Shoes.pop(\"color\")\n",
    "print(Shoes)\n",
    "#Clearing the whole dictionary\n",
    "Shoes.clear()\n",
    "print(Shoes)"
   ]
  },
  {
   "cell_type": "code",
   "execution_count": 42,
   "id": "fe2d68cf-9ec4-4189-9f9d-931a32257a27",
   "metadata": {},
   "outputs": [
    {
     "name": "stdout",
     "output_type": "stream",
     "text": [
      "{'name': 'Andrew', 'age': 20, 'country': 'Uganda', 'city': 'Kampala'}\n"
     ]
    }
   ],
   "source": [
    "#Making copies\n",
    "my_dic = {\n",
    "    \"name\": \"Andrew\",\n",
    "    \"age\": 20,\n",
    "    \"country\": \"Uganda\",\n",
    "    \"city\": \"Kampala\"\n",
    "} \n",
    "\n",
    "copy_dic = my_dic.copy()\n",
    "print(copy_dic)"
   ]
  },
  {
   "cell_type": "code",
   "execution_count": null,
   "id": "f6282915-1dcf-45b4-b4e7-f57147259e3c",
   "metadata": {},
   "outputs": [
    {
     "name": "stdout",
     "output_type": "stream",
     "text": [
      "Tired\n"
     ]
    }
   ],
   "source": [
    "#multidimensional dic\n",
    "tired = {\n",
    "    \"Monday\": {\"8am\": \"Tired\", \"9am\": \"Tired\", \"10am\": \"Tired\"},\n",
    "    \"Tuesday\": {\"8am\": \"Tired\", \"9am\": \"Tired\", \"10am\": \"Tired\"},\n",
    "    \"Wednesday\": {\"8am\": \"Tired\", \"9am\": \"Tired\", \"10am\": \"Tired\"},\n",
    "    \"Thursday\": {\"8am\": \"Tired\", \"9am\": \"Tired\", \"10am\": \"Tired\"},\n",
    "    \"Friday\": {\"8am\": \"Tired\", \"9am\": \"Tired\", \"10am\": \"Tired\"},\n",
    "    \"Saturday\": {\"8am\": \"Tired\", \"9am\": \"Tired\", \"10am\": \"Tired\"},\n",
    "}\n",
    "\n",
    "print(tired[\"Monday\"][\"8am\"])\n",
    "print(tired)"
   ]
  }
 ],
 "metadata": {
  "kernelspec": {
   "display_name": "Python 3 (ipykernel)",
   "language": "python",
   "name": "python3"
  },
  "language_info": {
   "codemirror_mode": {
    "name": "ipython",
    "version": 3
   },
   "file_extension": ".py",
   "mimetype": "text/x-python",
   "name": "python",
   "nbconvert_exporter": "python",
   "pygments_lexer": "ipython3",
   "version": "3.13.3"
  }
 },
 "nbformat": 4,
 "nbformat_minor": 5
}
