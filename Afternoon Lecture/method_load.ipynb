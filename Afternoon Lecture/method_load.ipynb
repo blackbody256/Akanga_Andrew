{
 "cells": [
  {
   "cell_type": "code",
   "execution_count": 5,
   "id": "0669482d-f232-43d8-a4fd-5a706aa3c459",
   "metadata": {},
   "outputs": [],
   "source": [
    "#Method overloading:\n",
    "#This is where different methods have the same name with different names\n",
    "def sum(x,y):\n",
    "    print(f\"The sum of {x} and {y} is {x+y}\")\n",
    "\n",
    "def sum(x,y,z):\n",
    "    print(f\"The sum of {x}, {y} and {z} is {x+y+z}\")"
   ]
  },
  {
   "cell_type": "code",
   "execution_count": 6,
   "id": "ba38a6ac-5e10-4adf-b7db-095dee6e8378",
   "metadata": {},
   "outputs": [
    {
     "ename": "TypeError",
     "evalue": "sum() missing 1 required positional argument: 'z'",
     "output_type": "error",
     "traceback": [
      "\u001b[31m---------------------------------------------------------------------------\u001b[39m",
      "\u001b[31mTypeError\u001b[39m                                 Traceback (most recent call last)",
      "\u001b[36mCell\u001b[39m\u001b[36m \u001b[39m\u001b[32mIn[6]\u001b[39m\u001b[32m, line 1\u001b[39m\n\u001b[32m----> \u001b[39m\u001b[32m1\u001b[39m \u001b[38;5;28;43msum\u001b[39;49m\u001b[43m(\u001b[49m\u001b[32;43m2\u001b[39;49m\u001b[43m,\u001b[49m\u001b[32;43m3\u001b[39;49m\u001b[43m)\u001b[49m\n\u001b[32m      2\u001b[39m \u001b[38;5;66;03m#this throws an error because python considers the latest method \u001b[39;00m\n\u001b[32m      3\u001b[39m \u001b[38;5;66;03m#because since python is an interpreted language it doesn't support\u001b[39;00m\n\u001b[32m      4\u001b[39m \u001b[38;5;66;03m#Traditional method overloading hence an external library is needed.\u001b[39;00m\n",
      "\u001b[31mTypeError\u001b[39m: sum() missing 1 required positional argument: 'z'"
     ]
    }
   ],
   "source": [
    "sum(2,3)\n",
    "#this throws an error because python considers the latest method \n",
    "#because since python is an interpreted language it doesn't support\n",
    "#Traditional method overloading hence an external library is needed.\n"
   ]
  },
  {
   "cell_type": "code",
   "execution_count": 7,
   "id": "44c2fe4d-a99f-47f3-8035-3358a03d06ce",
   "metadata": {},
   "outputs": [
    {
     "name": "stdout",
     "output_type": "stream",
     "text": [
      "The sum of 1, 2 and 3 is 6\n"
     ]
    }
   ],
   "source": [
    "#the latest method used is\n",
    "sum(1,2,3)"
   ]
  },
  {
   "cell_type": "code",
   "execution_count": 1,
   "id": "68ab488b-e0d7-430b-82b4-877776d3d744",
   "metadata": {},
   "outputs": [
    {
     "name": "stdout",
     "output_type": "stream",
     "text": [
      "6\n",
      "5\n"
     ]
    }
   ],
   "source": [
    "#the external library is called multipledispatch\n",
    "\n",
    "from multipledispatch import dispatch\n",
    "@dispatch(int,int,int)\n",
    "def sum(a,b,c):\n",
    "    result = a+b+c\n",
    "    print(result)\n",
    "@dispatch(int,int)\n",
    "def sum(x,y):\n",
    "    result = x+y\n",
    "    print(result)\n",
    "    \n",
    "sum(1,2,3)\n",
    "sum(2,3)"
   ]
  },
  {
   "cell_type": "code",
   "execution_count": null,
   "id": "faaa7cb0-6a1d-4b39-957e-eaf19f528495",
   "metadata": {},
   "outputs": [],
   "source": []
  }
 ],
 "metadata": {
  "kernelspec": {
   "display_name": "Python 3 (ipykernel)",
   "language": "python",
   "name": "python3"
  },
  "language_info": {
   "codemirror_mode": {
    "name": "ipython",
    "version": 3
   },
   "file_extension": ".py",
   "mimetype": "text/x-python",
   "name": "python",
   "nbconvert_exporter": "python",
   "pygments_lexer": "ipython3",
   "version": "3.13.3"
  }
 },
 "nbformat": 4,
 "nbformat_minor": 5
}
